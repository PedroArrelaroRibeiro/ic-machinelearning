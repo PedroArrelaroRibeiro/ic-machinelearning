{
 "cells": [
  {
   "cell_type": "markdown",
   "metadata": {},
   "source": [
    "Organizar as RSSIs:"
   ]
  },
  {
   "cell_type": "code",
   "execution_count": 60,
   "metadata": {},
   "outputs": [],
   "source": [
    "import pandas as pd\n",
    "\n",
    "rssi_b1 = pd.read_csv('rssi_b1.txt', sep=';')\n",
    "rssi_b2 = pd.read_csv('rssi_b2.txt', sep=';')\n",
    "rssi_b3 = pd.read_csv('rssi_b3.txt', sep=';')\n",
    "\n",
    "rssi_b1 = rssi_b1.drop(\"i \", axis=1)\n",
    "rssi_b2 = rssi_b2.drop(\"i \", axis=1)\n",
    "rssi_b3 = rssi_b3.drop(\"i \", axis=1)\n",
    "\n",
    "rssi_b1 = rssi_b1.iloc[2:102]\n",
    "rssi_b2 = rssi_b2.iloc[2:102]\n",
    "rssi_b3 = rssi_b3.iloc[2:102]\n",
    "\n",
    "rssi_b1.index = rssi_b1.index - 2\n",
    "rssi_b2.index = rssi_b2.index - 2\n",
    "rssi_b3.index = rssi_b3.index - 2\n",
    "\n",
    "rssi_b1.to_excel(\"rssi_b1.xlsx\" ,index=False)\n",
    "rssi_b2.to_excel(\"rssi_b2.xlsx\" ,index=False)\n",
    "rssi_b3.to_excel(\"rssi_b3.xlsx\" ,index=False)"
   ]
  },
  {
   "cell_type": "markdown",
   "metadata": {},
   "source": [
    "Tirar a média:"
   ]
  },
  {
   "cell_type": "code",
   "execution_count": 61,
   "metadata": {},
   "outputs": [],
   "source": [
    "import math\n",
    "\n",
    "def calcular_p_dbm(p_watt):\n",
    "    p_dbm = 10*(math.log10(p_watt/(10**-3)))\n",
    "    return p_dbm\n",
    "\n",
    "def calcular_p_watt(p_dbm):\n",
    "    p_watt = (10**-3)*10**(p_dbm/10)\n",
    "    return p_watt"
   ]
  },
  {
   "cell_type": "code",
   "execution_count": 62,
   "metadata": {},
   "outputs": [],
   "source": [
    "rssi_b1 = pd.read_excel('rssi_b1.xlsx')\n",
    "rssi_b2 = pd.read_excel('rssi_b2.xlsx')\n",
    "rssi_b3 = pd.read_excel('rssi_b3.xlsx')"
   ]
  },
  {
   "cell_type": "code",
   "execution_count": 100,
   "metadata": {},
   "outputs": [],
   "source": [
    "rssis = [rssi_b1,rssi_b2,rssi_b3]\n",
    "\n",
    "rssi_b1_watt = [[],[]]\n",
    "rssi_b2_watt = [[],[]]\n",
    "rssi_b3_watt = [[],[]]\n",
    "\n",
    "rssis_watt = [rssi_b1_watt,rssi_b2_watt,rssi_b3_watt]\n",
    "\n",
    "for i in range(len(rssis)):\n",
    "    for j in range(len(rssis[i]['rssi_down'])):\n",
    "        rssis_watt[i][0].append(calcular_p_watt(float(rssis[i]['rssi_up'][j])))\n",
    "        rssis_watt[i][1].append(calcular_p_watt(float(rssis[i]['rssi_down'][j])))\n",
    "\n",
    "medias_watt = []\n",
    "\n",
    "for i in range(len(rssis_watt)):\n",
    "    media_up = sum(rssis_watt[i][0])/len(rssis_watt[i][0])\n",
    "    media_down = sum(rssis_watt[i][1])/len(rssis_watt[i][1])\n",
    "    medias_watt.append([media_up,media_down])\n",
    "\n",
    "medias_dbm = []\n",
    "\n",
    "for i in range(len(medias_watt)):\n",
    "    media_up = round(calcular_p_dbm(medias_watt[i][0]),2)\n",
    "    media_down = round(calcular_p_dbm(medias_watt[i][1]),2)\n",
    "    medias_dbm.append([media_up,media_down])\n",
    "\n",
    "medias_dbm = pd.DataFrame(medias_dbm, index=['rssi_b1','rssi_b2','rssi_b3'], columns=['rssi_up','rssi_down'])\n",
    "\n",
    "\n",
    "medias_dbm.to_excel('medias.xlsx')"
   ]
  }
 ],
 "metadata": {
  "kernelspec": {
   "display_name": "Python 3",
   "language": "python",
   "name": "python3"
  },
  "language_info": {
   "codemirror_mode": {
    "name": "ipython",
    "version": 3
   },
   "file_extension": ".py",
   "mimetype": "text/x-python",
   "name": "python",
   "nbconvert_exporter": "python",
   "pygments_lexer": "ipython3",
   "version": "3.12.1"
  }
 },
 "nbformat": 4,
 "nbformat_minor": 2
}
